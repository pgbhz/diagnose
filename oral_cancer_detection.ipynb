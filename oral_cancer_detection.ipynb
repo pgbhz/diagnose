{
 "cells": [
  {
   "cell_type": "markdown",
   "id": "4a92329c",
   "metadata": {},
   "source": [
    "# Oral Cancer Detection Prototype"
   ]
  },
  {
   "cell_type": "code",
   "execution_count": null,
   "id": "f8cb9355",
   "metadata": {},
   "outputs": [],
   "source": [
    "import numpy as np\n",
    "import pandas as pd\n",
    "import matplotlib.pyplot as plt\n",
    "import cv2\n",
    "import os\n",
    "\n",
    "from sklearn.model_selection import train_test_split\n",
    "from sklearn.svm import SVC\n",
    "from sklearn.metrics import classification_report, accuracy_score\n",
    "\n",
    "from tensorflow.keras.models import Sequential\n",
    "from tensorflow.keras.layers import Conv2D, MaxPooling2D, Flatten, Dense, Dropout\n",
    "\n",
    "from PIL import Image"
   ]
  },
  {
   "cell_type": "markdown",
   "id": "5498b13b",
   "metadata": {},
   "source": [
    "## Load and Preprocess Image Data"
   ]
  },
  {
   "cell_type": "markdown",
   "id": "a9fbd4f9",
   "metadata": {},
   "source": [
    "Images are loaded from directories labeled 'CANCER' (class 1) and 'NON CANCER' (class 0). Each image is resized to 128×128 pixels for uniformity, as neural networks require fixed input dimensions. Resizing reduces computational cost while preserving essential features. The choice of 128×128 balances detail retention and memory efficiency, common in image classification tasks. Images are stored as NumPy arrays for efficient processing."
   ]
  },
  {
   "cell_type": "code",
   "execution_count": 9,
   "id": "38f6aeaa",
   "metadata": {},
   "outputs": [
    {
     "name": "stderr",
     "output_type": "stream",
     "text": [
      "libpng warning: iCCP: extra compressed data\n"
     ]
    },
    {
     "name": "stdout",
     "output_type": "stream",
     "text": [
      "Loaded 950 images with shape (950, 128, 128, 3)\n",
      "Labels distribution: [450 500]\n"
     ]
    }
   ],
   "source": [
    "data_dir = 'data'\n",
    "categories = ['CANCER', 'NON CANCER']\n",
    "images = []\n",
    "labels = []\n",
    "\n",
    "for category in categories:\n",
    "    path = os.path.join(data_dir, category)\n",
    "    label = 1 if category == 'CANCER' else 0\n",
    "    for img_name in os.listdir(path):\n",
    "        img_path = os.path.join(path, img_name)\n",
    "        img = cv2.imread(img_path)\n",
    "        if img is not None:\n",
    "            img = cv2.resize(img, (128, 128))\n",
    "            images.append(img)\n",
    "            labels.append(label)\n",
    "\n",
    "images = np.array(images)\n",
    "labels = np.array(labels)\n",
    "\n",
    "print(f\"Loaded {len(images)} images with shape {images.shape}\")\n",
    "print(f\"Labels distribution: {np.bincount(labels)}\")"
   ]
  },
  {
   "cell_type": "markdown",
   "id": "054d7b88",
   "metadata": {},
   "source": [
    "## Standardization Techniques"
   ]
  },
  {
   "cell_type": "markdown",
   "id": "d64e37d9",
   "metadata": {},
   "source": [
    "Pixel values are normalized to [0,1] by dividing by 255, scaling raw intensities to a common range. This accelerates convergence in gradient-based optimization by preventing large gradients. Mean subtraction centers the data around zero by subtracting per-channel means, reducing bias and improving training stability. For traditional ML, z-score normalization (subtract mean, divide by std) could be applied, but mean subtraction suffices here. Mathematically, for an image $I$, normalized $I' = I / 255$, standardized $I'' = I' - \\mu$ where $\\mu$ is the mean across dataset."
   ]
  },
  {
   "cell_type": "code",
   "execution_count": 10,
   "id": "34e45460",
   "metadata": {},
   "outputs": [
    {
     "name": "stdout",
     "output_type": "stream",
     "text": [
      "Normalized images shape: (950, 128, 128, 3)\n",
      "Standardized images shape: (950, 128, 128, 3)\n",
      "Mean values: [0.4259227  0.4422846  0.64462095]\n"
     ]
    }
   ],
   "source": [
    "# Normalize pixel values to [0, 1]\n",
    "images_normalized = images.astype('float32') / 255.0\n",
    "\n",
    "# Mean subtraction (per channel)\n",
    "mean = np.mean(images_normalized, axis=(0,1,2))\n",
    "images_standardized = images_normalized - mean\n",
    "\n",
    "# Z-score normalization (optional, but for traditional ML)\n",
    "# scaler = StandardScaler()\n",
    "# images_flat = images_normalized.reshape(images_normalized.shape[0], -1)\n",
    "# images_zscore = scaler.fit_transform(images_flat)\n",
    "\n",
    "print(f\"Normalized images shape: {images_normalized.shape}\")\n",
    "print(f\"Standardized images shape: {images_standardized.shape}\")\n",
    "print(f\"Mean values: {mean}\")"
   ]
  },
  {
   "cell_type": "markdown",
   "id": "3f62d9a5",
   "metadata": {},
   "source": [
    "## Feature Extraction"
   ]
  },
  {
   "cell_type": "markdown",
   "id": "aeb23d6c",
   "metadata": {},
   "source": [
    "Images are flattened into 1D vectors for traditional ML models like SVM, transforming 128×128×3 = 49,152 features. For CNNs, 3D tensors are used directly. Data is split 80/20 into train/test sets with stratification (random_state=42 for reproducibility). This evaluates generalization to unseen data, preventing overfitting. The split ratio balances training data availability and reliable evaluation."
   ]
  },
  {
   "cell_type": "code",
   "execution_count": 11,
   "id": "ba6b3ccf",
   "metadata": {},
   "outputs": [
    {
     "name": "stdout",
     "output_type": "stream",
     "text": [
      "Flattened features shape: (950, 49152)\n",
      "Train set size: 760, Test set size: 190\n"
     ]
    }
   ],
   "source": [
    "# Flatten images for traditional ML models\n",
    "images_flat = images_standardized.reshape(images_standardized.shape[0], -1)\n",
    "\n",
    "# For CNN, use the standardized images directly\n",
    "# Split data\n",
    "X_train_flat, X_test_flat, y_train, y_test = train_test_split(images_flat, labels, test_size=0.2, random_state=42)\n",
    "X_train_cnn, X_test_cnn, _, _ = train_test_split(images_standardized, labels, test_size=0.2, random_state=42)\n",
    "\n",
    "print(f\"Flattened features shape: {images_flat.shape}\")\n",
    "print(f\"Train set size: {X_train_flat.shape[0]}, Test set size: {X_test_flat.shape[0]}\")"
   ]
  },
  {
   "cell_type": "markdown",
   "id": "dd6417fc",
   "metadata": {},
   "source": [
    "## Train and Evaluate SVM Model"
   ]
  },
  {
   "cell_type": "markdown",
   "id": "4ae5ec28",
   "metadata": {},
   "source": [
    "SVM finds the hyperplane maximizing margin between classes. For non-linear data, RBF kernel maps to higher dimensions. Evaluation uses precision, recall, F1-score for imbalanced classes."
   ]
  },
  {
   "cell_type": "code",
   "execution_count": 12,
   "id": "84500170",
   "metadata": {},
   "outputs": [
    {
     "name": "stdout",
     "output_type": "stream",
     "text": [
      "SVM Classification Report:\n",
      "              precision    recall  f1-score   support\n",
      "\n",
      "           0       0.86      0.75      0.80        93\n",
      "           1       0.79      0.89      0.83        97\n",
      "\n",
      "    accuracy                           0.82       190\n",
      "   macro avg       0.83      0.82      0.82       190\n",
      "weighted avg       0.83      0.82      0.82       190\n",
      "\n",
      "SVM Accuracy: 0.8211\n"
     ]
    }
   ],
   "source": [
    "# Train SVM\n",
    "svm_model = SVC(kernel='rbf', random_state=42)\n",
    "svm_model.fit(X_train_flat, y_train)\n",
    "\n",
    "# Predict\n",
    "y_pred_svm = svm_model.predict(X_test_flat)\n",
    "\n",
    "# Evaluate\n",
    "print(\"SVM Classification Report:\")\n",
    "print(classification_report(y_test, y_pred_svm))\n",
    "print(f\"SVM Accuracy: {accuracy_score(y_test, y_pred_svm):.4f}\")"
   ]
  },
  {
   "cell_type": "markdown",
   "id": "c44b63ff",
   "metadata": {},
   "source": [
    "## Train and Evaluate CNN Model"
   ]
  },
  {
   "cell_type": "markdown",
   "id": "f07505de",
   "metadata": {},
   "source": [
    "CNNs learn hierarchical features via convolution. \n",
    "\n",
    "Conv2D applies filters (kernels) to extract edges/textures; 32 filters of 3×3 size capture local patterns. MaxPooling (2×2) reduces spatial dimensions, retaining max values for invariance. \n",
    "\n",
    "ReLU activation $f(x) = \\max(0, x)$ introduces non-linearity. Second conv layer (64 filters) learns complex features. \n",
    "\n",
    "Flatten converts to 1D, Dense layers classify. Dropout (0.5) randomly deactivates neurons to prevent overfitting. \n",
    "\n",
    "Sigmoid output for binary classification. \n",
    "\n",
    "Binary cross-entropy loss $L = -\\frac{1}{N} \\sum (y \\log \\hat{y} + (1-y) \\log (1-\\hat{y}))$ with Adam optimizer for efficient training."
   ]
  },
  {
   "cell_type": "code",
   "execution_count": 13,
   "id": "b4b6b64e",
   "metadata": {},
   "outputs": [
    {
     "name": "stderr",
     "output_type": "stream",
     "text": [
      "/home/pedro/code/diagnose/.venv/lib/python3.12/site-packages/keras/src/layers/convolutional/base_conv.py:113: UserWarning: Do not pass an `input_shape`/`input_dim` argument to a layer. When using Sequential models, prefer using an `Input(shape)` object as the first layer in the model instead.\n",
      "  super().__init__(activity_regularizer=activity_regularizer, **kwargs)\n"
     ]
    },
    {
     "name": "stdout",
     "output_type": "stream",
     "text": [
      "Epoch 1/10\n",
      "\u001b[1m19/19\u001b[0m \u001b[32m━━━━━━━━━━━━━━━━━━━━\u001b[0m\u001b[37m\u001b[0m \u001b[1m11s\u001b[0m 490ms/step - accuracy: 0.5970 - loss: 0.7387 - val_accuracy: 0.7237 - val_loss: 0.6215\n",
      "Epoch 2/10\n",
      "\u001b[1m19/19\u001b[0m \u001b[32m━━━━━━━━━━━━━━━━━━━━\u001b[0m\u001b[37m\u001b[0m \u001b[1m9s\u001b[0m 453ms/step - accuracy: 0.7434 - loss: 0.5544 - val_accuracy: 0.7763 - val_loss: 0.5002\n",
      "Epoch 3/10\n",
      "\u001b[1m19/19\u001b[0m \u001b[32m━━━━━━━━━━━━━━━━━━━━\u001b[0m\u001b[37m\u001b[0m \u001b[1m9s\u001b[0m 473ms/step - accuracy: 0.8125 - loss: 0.4228 - val_accuracy: 0.7500 - val_loss: 0.5333\n",
      "Epoch 4/10\n",
      "\u001b[1m19/19\u001b[0m \u001b[32m━━━━━━━━━━━━━━━━━━━━\u001b[0m\u001b[37m\u001b[0m \u001b[1m9s\u001b[0m 447ms/step - accuracy: 0.8635 - loss: 0.3496 - val_accuracy: 0.8092 - val_loss: 0.4150\n",
      "Epoch 5/10\n",
      "\u001b[1m19/19\u001b[0m \u001b[32m━━━━━━━━━━━━━━━━━━━━\u001b[0m\u001b[37m\u001b[0m \u001b[1m9s\u001b[0m 497ms/step - accuracy: 0.9046 - loss: 0.2480 - val_accuracy: 0.7961 - val_loss: 0.4336\n",
      "Epoch 6/10\n",
      "\u001b[1m19/19\u001b[0m \u001b[32m━━━━━━━━━━━━━━━━━━━━\u001b[0m\u001b[37m\u001b[0m \u001b[1m9s\u001b[0m 493ms/step - accuracy: 0.9145 - loss: 0.2101 - val_accuracy: 0.8224 - val_loss: 0.4050\n",
      "Epoch 7/10\n",
      "\u001b[1m19/19\u001b[0m \u001b[32m━━━━━━━━━━━━━━━━━━━━\u001b[0m\u001b[37m\u001b[0m \u001b[1m9s\u001b[0m 447ms/step - accuracy: 0.9572 - loss: 0.1271 - val_accuracy: 0.8421 - val_loss: 0.4301\n",
      "Epoch 8/10\n",
      "\u001b[1m19/19\u001b[0m \u001b[32m━━━━━━━━━━━━━━━━━━━━\u001b[0m\u001b[37m\u001b[0m \u001b[1m9s\u001b[0m 449ms/step - accuracy: 0.9770 - loss: 0.0835 - val_accuracy: 0.8224 - val_loss: 0.4970\n",
      "Epoch 9/10\n",
      "\u001b[1m19/19\u001b[0m \u001b[32m━━━━━━━━━━━━━━━━━━━━\u001b[0m\u001b[37m\u001b[0m \u001b[1m9s\u001b[0m 460ms/step - accuracy: 0.9901 - loss: 0.0529 - val_accuracy: 0.7895 - val_loss: 0.6713\n",
      "Epoch 10/10\n",
      "\u001b[1m19/19\u001b[0m \u001b[32m━━━━━━━━━━━━━━━━━━━━\u001b[0m\u001b[37m\u001b[0m \u001b[1m8s\u001b[0m 430ms/step - accuracy: 0.9852 - loss: 0.0423 - val_accuracy: 0.8289 - val_loss: 0.4623\n",
      "\u001b[1m6/6\u001b[0m \u001b[32m━━━━━━━━━━━━━━━━━━━━\u001b[0m\u001b[37m\u001b[0m \u001b[1m1s\u001b[0m 82ms/step - accuracy: 0.8105 - loss: 0.5396\n",
      "CNN Test Accuracy: 0.8105\n",
      "\u001b[1m6/6\u001b[0m \u001b[32m━━━━━━━━━━━━━━━━━━━━\u001b[0m\u001b[37m\u001b[0m \u001b[1m1s\u001b[0m 89ms/step\n",
      "CNN Classification Report:\n",
      "              precision    recall  f1-score   support\n",
      "\n",
      "           0       0.85      0.74      0.79        93\n",
      "           1       0.78      0.88      0.83        97\n",
      "\n",
      "    accuracy                           0.81       190\n",
      "   macro avg       0.82      0.81      0.81       190\n",
      "weighted avg       0.82      0.81      0.81       190\n",
      "\n"
     ]
    }
   ],
   "source": [
    "# Build CNN model\n",
    "cnn_model = Sequential([\n",
    "    Conv2D(32, (3, 3), activation='relu', input_shape=(128, 128, 3)),\n",
    "    MaxPooling2D(2, 2),\n",
    "    Conv2D(64, (3, 3), activation='relu'),\n",
    "    MaxPooling2D(2, 2),\n",
    "    Flatten(),\n",
    "    Dense(128, activation='relu'),\n",
    "    Dropout(0.5),\n",
    "    Dense(1, activation='sigmoid')\n",
    "])\n",
    "\n",
    "cnn_model.compile(optimizer='adam', loss='binary_crossentropy', metrics=['accuracy'])\n",
    "\n",
    "# Train CNN\n",
    "history = cnn_model.fit(X_train_cnn, y_train, epochs=10, validation_split=0.2, batch_size=32)\n",
    "\n",
    "# Evaluate\n",
    "loss, accuracy = cnn_model.evaluate(X_test_cnn, y_test)\n",
    "print(f\"CNN Test Accuracy: {accuracy:.4f}\")\n",
    "\n",
    "# Predict\n",
    "y_pred_cnn = (cnn_model.predict(X_test_cnn) > 0.5).astype(int).flatten()\n",
    "print(\"CNN Classification Report:\")\n",
    "print(classification_report(y_test, y_pred_cnn))"
   ]
  },
  {
   "cell_type": "markdown",
   "id": "f0e08160",
   "metadata": {},
   "source": [
    "## Compare Model Performances"
   ]
  },
  {
   "cell_type": "markdown",
   "id": "cc2188b3",
   "metadata": {},
   "source": [
    "Accuracy measures correct predictions over total. \n",
    "\n",
    "Precision $P = \\frac{TP}{TP+FP}$ is true positives over predicted positives; \n",
    "\n",
    "recall $R = \\frac{TP}{TP+FN}$ is true positives over actual positives. \n",
    "\n",
    "F1-score $F1 = 2 \\frac{P \\cdot R}{P + R}$ balances precision and recall. \n",
    "\n",
    "Bar plot compares accuracies visually. Training history plot shows overfitting if validation accuracy plateaus while training increases. These metrics evaluate trade-offs in binary classification for medical diagnosis."
   ]
  },
  {
   "cell_type": "code",
   "execution_count": 14,
   "id": "ef355fff",
   "metadata": {},
   "outputs": [
    {
     "data": {
      "image/png": "[encoded data removed]",
      "text/plain": [
       "<Figure size 640x480 with 1 Axes>"
      ]
     },
     "metadata": {},
     "output_type": "display_data"
    },
    {
     "data": {
      "image/png": "[encoded data removed]",
      "text/plain": [
       "<Figure size 640x480 with 1 Axes>"
      ]
     },
     "metadata": {},
     "output_type": "display_data"
    }
   ],
   "source": [
    "# Compare accuracies\n",
    "svm_acc = accuracy_score(y_test, y_pred_svm)\n",
    "cnn_acc = accuracy\n",
    "\n",
    "models = ['SVM', 'CNN']\n",
    "accuracies = [svm_acc, cnn_acc]\n",
    "\n",
    "plt.bar(models, accuracies)\n",
    "plt.ylabel('Accuracy')\n",
    "plt.title('Model Comparison')\n",
    "plt.show()\n",
    "\n",
    "# Plot CNN training history\n",
    "plt.plot(history.history['accuracy'], label='Train Accuracy')\n",
    "plt.plot(history.history['val_accuracy'], label='Val Accuracy')\n",
    "plt.xlabel('Epoch')\n",
    "plt.ylabel('Accuracy')\n",
    "plt.legend()\n",
    "plt.title('CNN Training History')\n",
    "plt.show()"
   ]
  }
 ],
 "metadata": {
  "kernelspec": {
   "display_name": ".venv",
   "language": "python",
   "name": "python3"
  },
  "language_info": {
   "codemirror_mode": {
    "name": "ipython",
    "version": 3
   },
   "file_extension": ".py",
   "mimetype": "text/x-python",
   "name": "python",
   "nbconvert_exporter": "python",
   "pygments_lexer": "ipython3",
   "version": "3.12.3"
  }
 },
 "nbformat": 4,
 "nbformat_minor": 5
}
